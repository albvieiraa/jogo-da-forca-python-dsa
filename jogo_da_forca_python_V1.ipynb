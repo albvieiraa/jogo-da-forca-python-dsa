{
  "nbformat": 4,
  "nbformat_minor": 0,
  "metadata": {
    "colab": {
      "provenance": [],
      "authorship_tag": "ABX9TyNcup157viRRG6pl/SE0b+v",
      "include_colab_link": true
    },
    "kernelspec": {
      "name": "python3",
      "display_name": "Python 3"
    },
    "language_info": {
      "name": "python"
    }
  },
  "cells": [
    {
      "cell_type": "markdown",
      "metadata": {
        "id": "view-in-github",
        "colab_type": "text"
      },
      "source": [
        "<a href=\"https://colab.research.google.com/github/albvieiraa/jogo-da-forca-python-dsa/blob/main/jogo_da_forca_python_V1.ipynb\" target=\"_parent\"><img src=\"https://colab.research.google.com/assets/colab-badge.svg\" alt=\"Open In Colab\"/></a>"
      ]
    },
    {
      "cell_type": "markdown",
      "source": [
        "**Projeto 1** - Desenvolvimento de Game com Linguagem Python - *Versão 1*"
      ],
      "metadata": {
        "id": "DKAjj4r8efm3"
      }
    },
    {
      "cell_type": "code",
      "execution_count": null,
      "metadata": {
        "id": "XA4ILvI6eK-q"
      },
      "outputs": [],
      "source": [
        "import random\n",
        "from os import system, name"
      ]
    },
    {
      "cell_type": "code",
      "source": [
        "#Função para limar a tela a cada execução\n",
        "def limpar_tela():\n",
        "  #windows\n",
        "  if name == 'nt':\n",
        "    _= system('cls')\n",
        "  #Mac ou Linux\n",
        "  else:\n",
        "    _= system('clear')\n",
        "\n",
        "#Função do game\n",
        "def jogo():\n",
        "  limpar_tela()\n",
        "  print(\"\\nBem-vindo(a) ao jogo da forca!\")\n",
        "  print(\"Adivinhe a palavra abaixo:\\n\")\n",
        "  #lista de palavras do jogo\n",
        "  palavras = ['banana', 'abacate', 'uva', 'morango', 'laranja'] #anexar um arquivo .txt com palavras aleatórias de comidas\n",
        "\n",
        "  #escolher a palavra aleatoriamente\n",
        "  palavra = random.choice(palavras)\n",
        "\n",
        "  #list comprehension\n",
        "  letras_descobertas = ['_' for letra in palavra]\n",
        "\n",
        "  #numero de chances\n",
        "  chances = 6\n",
        "\n",
        "  #lista para letras erradas\n",
        "  letras_erradas = []\n",
        "\n",
        "  #Loop enquanto número de chances for maior que zero\n",
        "  while chances > 0:\n",
        "    print(\" \".join(letras_descobertas))\n",
        "    print(\"\\nChances restantes: \", chances)\n",
        "    print(\"Letras erradas: \", \" \".join(letras_erradas))\n",
        "\n",
        "    tentativa = input(\"\\nDigite uma letra: \").lower()\n",
        "    #condicional para checar as letras corretas\n",
        "    if tentativa in palavra:\n",
        "      index = 0\n",
        "      for letra in palavra:\n",
        "        if tentativa == letra:\n",
        "          letras_descobertas[index] = letra\n",
        "        index += 1\n",
        "    else:\n",
        "      chances -= 1\n",
        "      letras_erradas.append(tentativa)\n",
        "\n",
        "    #condicional quando acertar a palavra, ou seja não tem mais \"_\" apenas letras\n",
        "    if \"_\" not in letras_descobertas:\n",
        "      print(\"\\nVocê venceu, a palavra era: \", palavra)\n",
        "      break\n",
        "\n",
        "  #condicional para avisar que as chances acabaram e o usuário perdeu o jogo\n",
        "  if \"_\" in letras_descobertas:\n",
        "    print(\"\\nVocê perdeu, a palavra era: \", palavra)\n",
        "\n",
        "#bloco main\n",
        "if __name__ == \"__main__\":\n",
        "  jogo()\n",
        "  print(\"\\nParabéns. Você está aprendendo programação em Python com a DSA!\\n\")"
      ],
      "metadata": {
        "id": "VWRn484neysT",
        "colab": {
          "base_uri": "https://localhost:8080/",
          "height": 495
        },
        "outputId": "01d1d6d7-8ee7-496f-b234-e57ca7ff38d0"
      },
      "execution_count": null,
      "outputs": [
        {
          "output_type": "stream",
          "name": "stdout",
          "text": [
            "\n",
            "Bem-vindo(a) ao jogo da forca!\n",
            "Adivinhe a palavra abaixo:\n",
            "\n",
            "_ _ _\n",
            "\n",
            "Chances restantes:  6\n",
            "Letras erradas:  \n"
          ]
        },
        {
          "output_type": "error",
          "ename": "KeyboardInterrupt",
          "evalue": "Interrupted by user",
          "traceback": [
            "\u001b[0;31m---------------------------------------------------------------------------\u001b[0m",
            "\u001b[0;31mKeyboardInterrupt\u001b[0m                         Traceback (most recent call last)",
            "\u001b[0;32m<ipython-input-4-b828bfdcd6f7>\u001b[0m in \u001b[0;36m<cell line: 58>\u001b[0;34m()\u001b[0m\n\u001b[1;32m     57\u001b[0m \u001b[0;31m#bloco main\u001b[0m\u001b[0;34m\u001b[0m\u001b[0;34m\u001b[0m\u001b[0m\n\u001b[1;32m     58\u001b[0m \u001b[0;32mif\u001b[0m \u001b[0m__name__\u001b[0m \u001b[0;34m==\u001b[0m \u001b[0;34m\"__main__\"\u001b[0m\u001b[0;34m:\u001b[0m\u001b[0;34m\u001b[0m\u001b[0;34m\u001b[0m\u001b[0m\n\u001b[0;32m---> 59\u001b[0;31m   \u001b[0mjogo\u001b[0m\u001b[0;34m(\u001b[0m\u001b[0;34m)\u001b[0m\u001b[0;34m\u001b[0m\u001b[0;34m\u001b[0m\u001b[0m\n\u001b[0m\u001b[1;32m     60\u001b[0m   \u001b[0mprint\u001b[0m\u001b[0;34m(\u001b[0m\u001b[0;34m\"\\nParabéns. Você está aprendendo programação em Python com a DSA!\\n\"\u001b[0m\u001b[0;34m)\u001b[0m\u001b[0;34m\u001b[0m\u001b[0;34m\u001b[0m\u001b[0m\n",
            "\u001b[0;32m<ipython-input-4-b828bfdcd6f7>\u001b[0m in \u001b[0;36mjogo\u001b[0;34m()\u001b[0m\n\u001b[1;32m     34\u001b[0m     \u001b[0mprint\u001b[0m\u001b[0;34m(\u001b[0m\u001b[0;34m\"Letras erradas: \"\u001b[0m\u001b[0;34m,\u001b[0m \u001b[0;34m\" \"\u001b[0m\u001b[0;34m.\u001b[0m\u001b[0mjoin\u001b[0m\u001b[0;34m(\u001b[0m\u001b[0mletras_erradas\u001b[0m\u001b[0;34m)\u001b[0m\u001b[0;34m)\u001b[0m\u001b[0;34m\u001b[0m\u001b[0;34m\u001b[0m\u001b[0m\n\u001b[1;32m     35\u001b[0m \u001b[0;34m\u001b[0m\u001b[0m\n\u001b[0;32m---> 36\u001b[0;31m     \u001b[0mtentativa\u001b[0m \u001b[0;34m=\u001b[0m \u001b[0minput\u001b[0m\u001b[0;34m(\u001b[0m\u001b[0;34m\"\\nDigite uma letra: \"\u001b[0m\u001b[0;34m)\u001b[0m\u001b[0;34m.\u001b[0m\u001b[0mlower\u001b[0m\u001b[0;34m(\u001b[0m\u001b[0;34m)\u001b[0m\u001b[0;34m\u001b[0m\u001b[0;34m\u001b[0m\u001b[0m\n\u001b[0m\u001b[1;32m     37\u001b[0m     \u001b[0;31m#condicional para checar as letras corretas\u001b[0m\u001b[0;34m\u001b[0m\u001b[0;34m\u001b[0m\u001b[0m\n\u001b[1;32m     38\u001b[0m     \u001b[0;32mif\u001b[0m \u001b[0mtentativa\u001b[0m \u001b[0;32min\u001b[0m \u001b[0mpalavra\u001b[0m\u001b[0;34m:\u001b[0m\u001b[0;34m\u001b[0m\u001b[0;34m\u001b[0m\u001b[0m\n",
            "\u001b[0;32m/usr/local/lib/python3.10/dist-packages/ipykernel/kernelbase.py\u001b[0m in \u001b[0;36mraw_input\u001b[0;34m(self, prompt)\u001b[0m\n\u001b[1;32m    849\u001b[0m                 \u001b[0;34m\"raw_input was called, but this frontend does not support input requests.\"\u001b[0m\u001b[0;34m\u001b[0m\u001b[0;34m\u001b[0m\u001b[0m\n\u001b[1;32m    850\u001b[0m             )\n\u001b[0;32m--> 851\u001b[0;31m         return self._input_request(str(prompt),\n\u001b[0m\u001b[1;32m    852\u001b[0m             \u001b[0mself\u001b[0m\u001b[0;34m.\u001b[0m\u001b[0m_parent_ident\u001b[0m\u001b[0;34m,\u001b[0m\u001b[0;34m\u001b[0m\u001b[0;34m\u001b[0m\u001b[0m\n\u001b[1;32m    853\u001b[0m             \u001b[0mself\u001b[0m\u001b[0;34m.\u001b[0m\u001b[0m_parent_header\u001b[0m\u001b[0;34m,\u001b[0m\u001b[0;34m\u001b[0m\u001b[0;34m\u001b[0m\u001b[0m\n",
            "\u001b[0;32m/usr/local/lib/python3.10/dist-packages/ipykernel/kernelbase.py\u001b[0m in \u001b[0;36m_input_request\u001b[0;34m(self, prompt, ident, parent, password)\u001b[0m\n\u001b[1;32m    893\u001b[0m             \u001b[0;32mexcept\u001b[0m \u001b[0mKeyboardInterrupt\u001b[0m\u001b[0;34m:\u001b[0m\u001b[0;34m\u001b[0m\u001b[0;34m\u001b[0m\u001b[0m\n\u001b[1;32m    894\u001b[0m                 \u001b[0;31m# re-raise KeyboardInterrupt, to truncate traceback\u001b[0m\u001b[0;34m\u001b[0m\u001b[0;34m\u001b[0m\u001b[0m\n\u001b[0;32m--> 895\u001b[0;31m                 \u001b[0;32mraise\u001b[0m \u001b[0mKeyboardInterrupt\u001b[0m\u001b[0;34m(\u001b[0m\u001b[0;34m\"Interrupted by user\"\u001b[0m\u001b[0;34m)\u001b[0m \u001b[0;32mfrom\u001b[0m \u001b[0;32mNone\u001b[0m\u001b[0;34m\u001b[0m\u001b[0;34m\u001b[0m\u001b[0m\n\u001b[0m\u001b[1;32m    896\u001b[0m             \u001b[0;32mexcept\u001b[0m \u001b[0mException\u001b[0m \u001b[0;32mas\u001b[0m \u001b[0me\u001b[0m\u001b[0;34m:\u001b[0m\u001b[0;34m\u001b[0m\u001b[0;34m\u001b[0m\u001b[0m\n\u001b[1;32m    897\u001b[0m                 \u001b[0mself\u001b[0m\u001b[0;34m.\u001b[0m\u001b[0mlog\u001b[0m\u001b[0;34m.\u001b[0m\u001b[0mwarning\u001b[0m\u001b[0;34m(\u001b[0m\u001b[0;34m\"Invalid Message:\"\u001b[0m\u001b[0;34m,\u001b[0m \u001b[0mexc_info\u001b[0m\u001b[0;34m=\u001b[0m\u001b[0;32mTrue\u001b[0m\u001b[0;34m)\u001b[0m\u001b[0;34m\u001b[0m\u001b[0;34m\u001b[0m\u001b[0m\n",
            "\u001b[0;31mKeyboardInterrupt\u001b[0m: Interrupted by user"
          ]
        }
      ]
    }
  ]
}