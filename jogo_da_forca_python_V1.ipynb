{
  "nbformat": 4,
  "nbformat_minor": 0,
  "metadata": {
    "colab": {
      "provenance": [],
      "authorship_tag": "ABX9TyNcup157viRRG6pl/SE0b+v",
      "include_colab_link": true
    },
    "kernelspec": {
      "name": "python3",
      "display_name": "Python 3"
    },
    "language_info": {
      "name": "python"
    }
  },
  "cells": [
    {
      "cell_type": "markdown",
      "metadata": {
        "id": "view-in-github",
        "colab_type": "text"
      },
      "source": [
        "<a href=\"https://colab.research.google.com/github/albvieiraa/jogo-da-forca-python-dsa/blob/main/jogo_da_forca_python_V1.ipynb\" target=\"_parent\"><img src=\"https://colab.research.google.com/assets/colab-badge.svg\" alt=\"Open In Colab\"/></a>"
      ]
    },
    {
      "cell_type": "markdown",
      "source": [
        "**Projeto 1** - Desenvolvimento de Game com Linguagem Python - *Versão 1*"
      ],
      "metadata": {
        "id": "DKAjj4r8efm3"
      }
    },
    {
      "cell_type": "code",
      "execution_count": 5,
      "metadata": {
        "id": "XA4ILvI6eK-q"
      },
      "outputs": [],
      "source": [
        "import random\n",
        "from os import system, name"
      ]
    },
    {
      "cell_type": "code",
      "source": [
        "#Função para limar a tela a cada execução\n",
        "def limpar_tela():\n",
        "  #windows\n",
        "  if name == 'nt':\n",
        "    _= system('cls')\n",
        "  #Mac ou Linux\n",
        "  else:\n",
        "    _= system('clear')\n",
        "\n",
        "#Função do game\n",
        "def jogo():\n",
        "  limpar_tela()\n",
        "  print(\"\\nBem-vindo(a) ao jogo da forca!\")\n",
        "  print(\"Adivinhe a palavra abaixo:\\n\")\n",
        "  #lista de palavras do jogo\n",
        "  palavras = ['banana', 'abacate', 'uva', 'morango', 'laranja'] #anexar um arquivo .txt com palavras aleatórias de comidas\n",
        "\n",
        "  #escolher a palavra aleatoriamente\n",
        "  palavra = random.choice(palavras)\n",
        "\n",
        "  #list comprehension\n",
        "  letras_descobertas = ['_' for letra in palavra]\n",
        "\n",
        "  #numero de chances\n",
        "  chances = 6\n",
        "\n",
        "  #lista para letras erradas\n",
        "  letras_erradas = []\n",
        "\n",
        "  #Loop enquanto número de chances for maior que zero\n",
        "  while chances > 0:\n",
        "    print(\" \".join(letras_descobertas))\n",
        "    print(\"\\nChances restantes: \", chances)\n",
        "    print(\"Letras erradas: \", \" \".join(letras_erradas))\n",
        "\n",
        "    tentativa = input(\"\\nDigite uma letra: \").lower()\n",
        "    #condicional para checar as letras corretas\n",
        "    if tentativa in palavra:\n",
        "      index = 0\n",
        "      for letra in palavra:\n",
        "        if tentativa == letra:\n",
        "          letras_descobertas[index] = letra\n",
        "        index += 1\n",
        "    else:\n",
        "      chances -= 1\n",
        "      letras_erradas.append(tentativa)\n",
        "\n",
        "    #condicional quando acertar a palavra, ou seja não tem mais \"_\" apenas letras\n",
        "    if \"_\" not in letras_descobertas:\n",
        "      print(\"\\nVocê venceu, a palavra era: \", palavra)\n",
        "      break\n",
        "\n",
        "  #condicional para avisar que as chances acabaram e o usuário perdeu o jogo\n",
        "  if \"_\" in letras_descobertas:\n",
        "    print(\"\\nVocê perdeu, a palavra era: \", palavra)\n",
        "\n",
        "#bloco main\n",
        "if __name__ == \"__main__\":\n",
        "  jogo()\n",
        "  print(\"\\nParabéns. Você está aprendendo programação em Python com a DSA!\\n\")"
      ],
      "metadata": {
        "id": "VWRn484neysT",
        "colab": {
          "base_uri": "https://localhost:8080/"
        },
        "outputId": "1c8ccfed-7e64-4741-f7e7-785c2badbfef"
      },
      "execution_count": null,
      "outputs": [
        {
          "output_type": "stream",
          "name": "stdout",
          "text": [
            "\n",
            "Bem-vindo(a) ao jogo da forca!\n",
            "Adivinhe a palavra abaixo:\n",
            "\n",
            "_ _ _ _ _ _\n",
            "\n",
            "Chances restantes:  6\n",
            "Letras erradas:  \n"
          ]
        }
      ]
    }
  ]
}